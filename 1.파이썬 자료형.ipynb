{
 "cells": [
  {
   "cell_type": "code",
   "execution_count": 1,
   "id": "c2e29df8",
   "metadata": {},
   "outputs": [
    {
     "data": {
      "text/plain": [
       "-0.4000000000000057"
      ]
     },
     "execution_count": 1,
     "metadata": {},
     "output_type": "execute_result"
    }
   ],
   "source": [
    "#파이썬 자료형\n",
    "\n",
    "#정수형, 실수형\n",
    "a=123\n",
    "b=-123.4\n",
    "a+b"
   ]
  },
  {
   "cell_type": "code",
   "execution_count": 2,
   "id": "f898f6c1",
   "metadata": {},
   "outputs": [
    {
     "data": {
      "text/plain": [
       "48"
      ]
     },
     "execution_count": 2,
     "metadata": {},
     "output_type": "execute_result"
    }
   ],
   "source": [
    "#8진수로 계산\n",
    "c=0o34\n",
    "d=0o24\n",
    "c+d"
   ]
  },
  {
   "cell_type": "code",
   "execution_count": 3,
   "id": "d1b9a928",
   "metadata": {},
   "outputs": [
    {
     "data": {
      "text/plain": [
       "297"
      ]
     },
     "execution_count": 3,
     "metadata": {},
     "output_type": "execute_result"
    }
   ],
   "source": [
    "#16진수\n",
    "e=0x2A\n",
    "f=0xFF\n",
    "e+f"
   ]
  },
  {
   "cell_type": "code",
   "execution_count": 6,
   "id": "50630a38",
   "metadata": {},
   "outputs": [
    {
     "name": "stdout",
     "output_type": "stream",
     "text": [
      "WiseInCompany\n",
      "WiseInCompany\n",
      "\"WiseInCompany\"\n",
      "123\n",
      "<class 'str'>\n"
     ]
    }
   ],
   "source": [
    "#문자열\n",
    "s=\"WiseInCompany\"\n",
    "s1='WiseInCompany'\n",
    "s2='\"WiseInCompany\"'\n",
    "s3=\"123\"\n",
    "print(s)\n",
    "print(s1)\n",
    "print(s2)\n",
    "print(s3)\n",
    "print(type(s3))"
   ]
  },
  {
   "cell_type": "code",
   "execution_count": 7,
   "id": "8ce5af2c",
   "metadata": {},
   "outputs": [
    {
     "name": "stdout",
     "output_type": "stream",
     "text": [
      "WiseInCompany\n",
      "WiseInCompanyWiseInCompany\n"
     ]
    }
   ],
   "source": [
    "#문자열 연산하기\n",
    "a=\"Wise\"\n",
    "b=\"InCompany\"\n",
    "print(a+b)\n",
    "a=\"WiseInCompany\"\n",
    "print(a*2)"
   ]
  },
  {
   "cell_type": "code",
   "execution_count": 8,
   "id": "75698f4e",
   "metadata": {},
   "outputs": [
    {
     "name": "stdout",
     "output_type": "stream",
     "text": [
      "e\n",
      "a\n",
      "Wise IN Company\n",
      " IN Company\n",
      "Wise\n"
     ]
    }
   ],
   "source": [
    "#문자열 인덱싱 및 슬라이싱\n",
    "a=\"Wise IN Company\"\n",
    "print(a[3])\n",
    "print(a[-3])\n",
    "print(a[0:15])\n",
    "print(a[4:])\n",
    "print(a[0:4])"
   ]
  },
  {
   "cell_type": "code",
   "execution_count": 9,
   "id": "e9eb8e4b",
   "metadata": {},
   "outputs": [
    {
     "name": "stdout",
     "output_type": "stream",
     "text": [
      "[1, 2, 3, 4, 5]\n",
      "1\n",
      "5\n",
      "[1, 2, 3, 4, 5]\n",
      "[1, 2, 3, 4, 5]\n",
      "[3, 4, 5]\n"
     ]
    }
   ],
   "source": [
    "#리스트\n",
    "a=[1,2,3,4,5]\n",
    "print(a)\n",
    "\n",
    "#리스트 인덱싱\n",
    "a=[1,2,3,4,5]\n",
    "print(a[0])\n",
    "print(a[-1])\n",
    "\n",
    "#리스트 슬라이싱\n",
    "print(a[0:5])\n",
    "print(a[:5])\n",
    "print(a[2:])"
   ]
  },
  {
   "cell_type": "code",
   "execution_count": 10,
   "id": "068d3bb3",
   "metadata": {},
   "outputs": [
    {
     "name": "stdout",
     "output_type": "stream",
     "text": [
      "[0, 3, 4, 5, 6]\n"
     ]
    }
   ],
   "source": [
    "#리스트 요소 추가/수정/삭제\n",
    "a=[1,2,3,4,5]\n",
    "a.append(6)\n",
    "a[0]=0\n",
    "del a[1]\n",
    "print(a)"
   ]
  },
  {
   "cell_type": "code",
   "execution_count": 11,
   "id": "ce3d4421",
   "metadata": {},
   "outputs": [
    {
     "name": "stdout",
     "output_type": "stream",
     "text": [
      "[1, 2, 3, 4, 5]\n",
      "[1, 2, 1, 2, 1, 2]\n"
     ]
    }
   ],
   "source": [
    "#리스트 병합 및 반복\n",
    "a=[1,2]\n",
    "b=[3,4,5]\n",
    "c=a+b\n",
    "print(c)\n",
    "d=a*3\n",
    "print(d)"
   ]
  },
  {
   "cell_type": "code",
   "execution_count": 12,
   "id": "8022160f",
   "metadata": {},
   "outputs": [
    {
     "name": "stdout",
     "output_type": "stream",
     "text": [
      "2\n",
      "(1, 2, 3)\n"
     ]
    }
   ],
   "source": [
    "#튜플\n",
    "t=(1,2,3,4,5)\n",
    "\n",
    "#튜플 인덱싱 및 슬라이싱\n",
    "t1=(1,2,3)\n",
    "print(t[1])\n",
    "print(t[0:3])\n",
    "\n",
    "#튜플은 리스트와 비슷하지만 수정 불가능, ()으로 표현"
   ]
  },
  {
   "cell_type": "code",
   "execution_count": 16,
   "id": "df21df42",
   "metadata": {},
   "outputs": [
    {
     "name": "stdout",
     "output_type": "stream",
     "text": [
      "[1, 2, 1, 2, 1, 2]\n",
      "(1, 2, 1, 2, 1, 2)\n"
     ]
    }
   ],
   "source": [
    "a=(1,2)\n",
    "b=(3,4,5)\n",
    "c = a+b\n",
    "print(d)\n",
    "d=a*3\n",
    "print(d)"
   ]
  },
  {
   "cell_type": "code",
   "execution_count": 18,
   "id": "a85d7bea",
   "metadata": {},
   "outputs": [
    {
     "name": "stdout",
     "output_type": "stream",
     "text": [
      "('David', 'Kim')\n",
      "Kim , David\n"
     ]
    }
   ],
   "source": [
    "#튜플 변수 할당\n",
    "name = (\"David\",\"Kim\")\n",
    "print(name)\n",
    "firstname, lastname = (\"David\",\"Kim\")\n",
    "print(lastname,\",\",firstname)\n",
    "\n",
    "#한번에 두 변수에 값 할당 가능"
   ]
  },
  {
   "cell_type": "code",
   "execution_count": 19,
   "id": "e014aa7e",
   "metadata": {},
   "outputs": [
    {
     "name": "stdout",
     "output_type": "stream",
     "text": [
      "{1, 2, 3}\n"
     ]
    }
   ],
   "source": [
    "#집합\n",
    "set = {1,1,2,3}\n",
    "print(set)"
   ]
  },
  {
   "cell_type": "code",
   "execution_count": 26,
   "id": "fcd11d7b",
   "metadata": {},
   "outputs": [
    {
     "data": {
      "text/plain": [
       "{1, 2, 3, 4}"
      ]
     },
     "execution_count": 26,
     "metadata": {},
     "output_type": "execute_result"
    }
   ],
   "source": [
    "#집합 추가 및 삭제\n",
    "set = {1,1,2,3}\n",
    "set.add(4)\n",
    "set"
   ]
  },
  {
   "cell_type": "code",
   "execution_count": 32,
   "id": "23e4f917",
   "metadata": {},
   "outputs": [
    {
     "data": {
      "text/plain": [
       "{1, 2, 3, 4, 5, 6}"
      ]
     },
     "execution_count": 32,
     "metadata": {},
     "output_type": "execute_result"
    }
   ],
   "source": [
    "#집합 추가 및 삭제2\n",
    "set = {1,1,2,3}\n",
    "set.update({4,5,6})\n",
    "set"
   ]
  },
  {
   "cell_type": "code",
   "execution_count": 33,
   "id": "4934a754",
   "metadata": {},
   "outputs": [
    {
     "data": {
      "text/plain": [
       "{2, 3, 4, 5, 6}"
      ]
     },
     "execution_count": 33,
     "metadata": {},
     "output_type": "execute_result"
    }
   ],
   "source": [
    "#요소 하나 삭제\n",
    "set.remove(1)\n",
    "set"
   ]
  },
  {
   "cell_type": "code",
   "execution_count": 34,
   "id": "5c604f3c",
   "metadata": {},
   "outputs": [
    {
     "data": {
      "text/plain": [
       "set()"
      ]
     },
     "execution_count": 34,
     "metadata": {},
     "output_type": "execute_result"
    }
   ],
   "source": [
    "#모든 요소 삭제\n",
    "set.clear()\n",
    "set"
   ]
  },
  {
   "cell_type": "code",
   "execution_count": 35,
   "id": "67a1fcd5",
   "metadata": {},
   "outputs": [
    {
     "name": "stdout",
     "output_type": "stream",
     "text": [
      "{1, 3}\n",
      "{1, 2, 3, 4}\n",
      "{2}\n"
     ]
    }
   ],
   "source": [
    "#집합 연산\n",
    "a = {1,2,3}\n",
    "b = {1,3,4}\n",
    "\n",
    "#교집합\n",
    "c = a&b\n",
    "print(c)\n",
    "\n",
    "#합집합\n",
    "d = a|b\n",
    "print(d)\n",
    "\n",
    "#차집합\n",
    "e = a-b\n",
    "print(e)"
   ]
  },
  {
   "cell_type": "code",
   "execution_count": 1,
   "id": "a08e793f",
   "metadata": {},
   "outputs": [
    {
     "data": {
      "text/plain": [
       "90"
      ]
     },
     "execution_count": 1,
     "metadata": {},
     "output_type": "execute_result"
    }
   ],
   "source": [
    "#사전\n",
    "test = {\"Kim\":90,\"Jeong\":80,\"Park\":75}\n",
    "test[\"Kim\"]"
   ]
  },
  {
   "cell_type": "code",
   "execution_count": 2,
   "id": "d4043e9a",
   "metadata": {},
   "outputs": [
    {
     "name": "stdout",
     "output_type": "stream",
     "text": [
      "{'Kim': 90, 'Jeong': 85, 'Cho': 95}\n"
     ]
    }
   ],
   "source": [
    "#사전 추가/수정/삭제\n",
    "test = {\"Kim\":90,\"Jeong\":80,\"Park\":75}\n",
    "test[\"Jeong\"]=85\n",
    "test[\"Cho\"]=95\n",
    "del test[\"Park\"]\n",
    "print(test)"
   ]
  },
  {
   "cell_type": "code",
   "execution_count": 4,
   "id": "071be428",
   "metadata": {},
   "outputs": [
    {
     "name": "stdout",
     "output_type": "stream",
     "text": [
      "dict_keys(['Kim', 'Jeong', 'Park'])\n",
      "dict_values([90, 80, 75])\n"
     ]
    }
   ],
   "source": [
    "#키 또는 값 가져오기\n",
    "test = {\"Kim\":90,\"Jeong\":80,\"Park\":75}\n",
    "print(test.keys())\n",
    "print(test.values())"
   ]
  },
  {
   "cell_type": "code",
   "execution_count": 6,
   "id": "6031f5c2",
   "metadata": {},
   "outputs": [
    {
     "name": "stdout",
     "output_type": "stream",
     "text": [
      "걍 걸어가!\n"
     ]
    }
   ],
   "source": [
    "#if문\n",
    "money = 4000\n",
    "if money == 3000:\n",
    "    print(\"KTX 타고가자\")\n",
    "elif money >= 5000:\n",
    "    print(\"버스 타고가자\")\n",
    "        \n",
    "else:\n",
    "     print(\"걍 걸어가!\")"
   ]
  },
  {
   "cell_type": "code",
   "execution_count": 7,
   "id": "9e6912e1",
   "metadata": {},
   "outputs": [
    {
     "name": "stdout",
     "output_type": "stream",
     "text": [
      "55\n"
     ]
    }
   ],
   "source": [
    "#반복문\n",
    "\n",
    "#for ans\n",
    "\n",
    "sum = 0 \n",
    "for i in range(11):\n",
    "    sum = sum + i\n",
    "print(sum)"
   ]
  },
  {
   "cell_type": "code",
   "execution_count": 8,
   "id": "fe7660ae",
   "metadata": {},
   "outputs": [
    {
     "name": "stdout",
     "output_type": "stream",
     "text": [
      "Wise\n",
      "In\n",
      "Company\n"
     ]
    }
   ],
   "source": [
    "#for문 리스트 출력\n",
    "list = [\"Wise\",\"In\",\"Company\"]\n",
    "for s in list:\n",
    "    print(s)"
   ]
  },
  {
   "cell_type": "code",
   "execution_count": 9,
   "id": "346d89c8",
   "metadata": {},
   "outputs": [
    {
     "name": "stdout",
     "output_type": "stream",
     "text": [
      "0\n",
      "1\n",
      "2\n",
      "3\n",
      "4\n",
      "5\n",
      "6\n",
      "7\n",
      "8\n",
      "9\n"
     ]
    }
   ],
   "source": [
    "#while문\n",
    "i = 0 \n",
    "while i<10:\n",
    "    print(i)\n",
    "    i = i +1"
   ]
  },
  {
   "cell_type": "code",
   "execution_count": 12,
   "id": "1456f18f",
   "metadata": {},
   "outputs": [
    {
     "name": "stdout",
     "output_type": "stream",
     "text": [
      "apple\n",
      "banana\n",
      "bread\n"
     ]
    }
   ],
   "source": [
    "#while문 리스트 출력\n",
    "food = [\"apple\",\"banana\",\"bread\"]\n",
    "i = 0 \n",
    "while i < len(food):\n",
    "    print(food[i])\n",
    "    i = i+1"
   ]
  },
  {
   "cell_type": "code",
   "execution_count": null,
   "id": "437b5279",
   "metadata": {},
   "outputs": [],
   "source": []
  }
 ],
 "metadata": {
  "kernelspec": {
   "display_name": "Python 3",
   "language": "python",
   "name": "python3"
  },
  "language_info": {
   "codemirror_mode": {
    "name": "ipython",
    "version": 3
   },
   "file_extension": ".py",
   "mimetype": "text/x-python",
   "name": "python",
   "nbconvert_exporter": "python",
   "pygments_lexer": "ipython3",
   "version": "3.8.8"
  }
 },
 "nbformat": 4,
 "nbformat_minor": 5
}
