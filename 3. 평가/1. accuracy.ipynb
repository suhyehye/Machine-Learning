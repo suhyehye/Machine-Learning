{
 "cells": [
  {
   "cell_type": "code",
   "execution_count": 1,
   "id": "f70300fd",
   "metadata": {},
   "outputs": [],
   "source": [
    "from sklearn.base import BaseEstimator\n",
    "\n",
    "class MyDummyClassifier(BaseEstimator):\n",
    "    \n",
    "    #fit()메서드는 아무것도 학습하지 않음\n",
    "    def fit(self,X,y=None):\n",
    "        pass\n",
    "    \n",
    "    #predict()메서드는 단순히 sex피처가 1이면 0, 아니면 1로 예측\n",
    "    def predict(self,X):\n",
    "        pred = np.zeros((X.shape[0],1))\n",
    "        for i in range(X.shape[0]):\n",
    "            if X['Sex'].iloc[i] == 1:\n",
    "                pred[i] = 0\n",
    "                \n",
    "            else :\n",
    "                pred[i] = 1\n",
    "                \n",
    "        return pred"
   ]
  },
  {
   "cell_type": "code",
   "execution_count": 3,
   "id": "1b70479a",
   "metadata": {},
   "outputs": [],
   "source": [
    "#결측 처리\n",
    "def fillna(df):\n",
    "    df['Age'].fillna(df['Age'].mean(),inplace=True)\n",
    "    df['Cabin'].fillna('N',inplace=True)\n",
    "    df['Embarked'].fillna('N',inplace=True)\n",
    "    return df\n",
    "\n",
    "\n",
    "#불필요한 속성 제거\n",
    "def drop_features(df):\n",
    "    df.drop(['PassengerId','Name','Ticket'],axis=1,inplace=True)\n",
    "    return df\n",
    "\n",
    "\n",
    "#레이블 인코딩\n",
    "def format_features(df):\n",
    "    df['Cabin'] = df['Cabin'].str[:1]\n",
    "    features = ['Cabin','Sex','Embarked']\n",
    "    for feature in features:\n",
    "        le = LabelEncoder()\n",
    "        le = le.fit(df[feature])\n",
    "        df[feature] = le.transform(df[feature])\n",
    "    return df\n",
    "\n",
    "\n",
    "#데이터 전처리 함수\n",
    "def transform_features(df):\n",
    "    df = fillna(df)\n",
    "    df = drop_features(df)\n",
    "    df = format_features(df)\n",
    "    return df"
   ]
  },
  {
   "cell_type": "code",
   "execution_count": 6,
   "id": "f3d48c89",
   "metadata": {},
   "outputs": [
    {
     "name": "stdout",
     "output_type": "stream",
     "text": [
      "Dummy Classifier accuracy : 0.7877\n"
     ]
    }
   ],
   "source": [
    "import pandas as pd\n",
    "import numpy as np\n",
    "from sklearn.model_selection import train_test_split\n",
    "from sklearn.metrics import accuracy_score\n",
    "from sklearn.preprocessing import LabelEncoder\n",
    "\n",
    "titanic_df = pd.read_csv(r\"C:\\Users\\suhye\\Desktop\\ADP\\titanic_train.csv\")\n",
    "y = titanic_df['Survived']\n",
    "X = titanic_df.drop('Survived',axis=1)\n",
    "X = transform_features(X)\n",
    "\n",
    "X_train,X_test,y_train,y_test = train_test_split(X,y,test_size=0.2,random_state=0)\n",
    "\n",
    "#DummyClassifier로 학습\n",
    "myclf = MyDummyClassifier()\n",
    "myclf.fit(X_train,y_train)\n",
    "\n",
    "pred = myclf.predict(X_test)\n",
    "print(\"Dummy Classifier accuracy : {0:.4f}\".format(accuracy_score(y_test,pred)))"
   ]
  },
  {
   "cell_type": "markdown",
   "id": "5ad806ce",
   "metadata": {},
   "source": [
    "digits data"
   ]
  },
  {
   "cell_type": "code",
   "execution_count": 11,
   "id": "422e712d",
   "metadata": {},
   "outputs": [],
   "source": [
    "from sklearn.datasets import load_digits\n",
    "from sklearn.model_selection import train_test_split\n",
    "from sklearn.base import BaseEstimator\n",
    "from sklearn.metrics import accuracy_score\n",
    "import numpy as np\n",
    "import pandas as pd\n",
    "\n",
    "class MyFakeclassifier(BaseEstimator):\n",
    "    def fit(self,X,y):\n",
    "        pass\n",
    "    \n",
    "    #입력값으로 들어오는 X 데이터셋 크기만큼 모두 0 반환\n",
    "    def predict(self,X):\n",
    "        return np.zeros((len(X),1),dtype = bool)\n",
    "    \n",
    "#MNIST 데이터 로딩\n",
    "digits = load_digits()\n",
    "\n",
    "#digits 번호가 7이면 True, 이를 astype(int)로 1로 반환\n",
    "#7번 아니면 False, 0으로 변환\n",
    "y = (digits.target==7).astype(int)\n",
    "X_train,X_test,y_train,y_test = train_test_split(digits.data,y,random_state=11)"
   ]
  },
  {
   "cell_type": "code",
   "execution_count": 13,
   "id": "96f2048b",
   "metadata": {},
   "outputs": [
    {
     "name": "stdout",
     "output_type": "stream",
     "text": [
      "레이블 테스트 셋 크기 :  (450,)\n",
      "테스트 셋 레이블 0과 1의 분포 : \n",
      " 0    405\n",
      "1     45\n",
      "dtype: int64\n",
      "모든 예측을 0으로 해도 정확도는 0.900\n"
     ]
    }
   ],
   "source": [
    "#불균형 데이터 분포 확인\n",
    "print('레이블 테스트 셋 크기 : ',y_test.shape)\n",
    "print('테스트 셋 레이블 0과 1의 분포 : \\n',pd.Series(y_test).value_counts())\n",
    "\n",
    "#Dummy Classifier로 학습,예측,정확도 평가\n",
    "fakeclf = MyFakeclassifier()\n",
    "fakeclf.fit(X_train,y_train)\n",
    "fakepred = fakeclf.predict(X_test)\n",
    "print(\"모든 예측을 0으로 해도 정확도는 {:.3f}\".format(accuracy_score(y_test,fakepred)))"
   ]
  },
  {
   "cell_type": "code",
   "execution_count": null,
   "id": "a5699c68",
   "metadata": {},
   "outputs": [],
   "source": []
  }
 ],
 "metadata": {
  "kernelspec": {
   "display_name": "Python 3",
   "language": "python",
   "name": "python3"
  },
  "language_info": {
   "codemirror_mode": {
    "name": "ipython",
    "version": 3
   },
   "file_extension": ".py",
   "mimetype": "text/x-python",
   "name": "python",
   "nbconvert_exporter": "python",
   "pygments_lexer": "ipython3",
   "version": "3.8.8"
  }
 },
 "nbformat": 4,
 "nbformat_minor": 5
}
