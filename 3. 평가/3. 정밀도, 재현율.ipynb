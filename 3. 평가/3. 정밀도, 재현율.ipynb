{
 "cells": [
  {
   "cell_type": "code",
   "execution_count": 1,
   "id": "40dd3af5",
   "metadata": {},
   "outputs": [],
   "source": [
    "from sklearn.metrics import accuracy_score, precision_score, recall_score, confusion_matrix\n",
    "\n",
    "def get_clf_eval(y_test,pred):\n",
    "    cm = confusion_matrix(y_test,pred)\n",
    "    ac = accuracy_score(y_test,pred)\n",
    "    precision = precision_score(y_test,pred)\n",
    "    recall = recall_score(y_test,pred)\n",
    "    print('Confusion matrix : \\n',cm)\n",
    "    print(\"accuracy : {0:.4f}, precision : {1:.4f}, recall : {2:.4f}\".format(ac,precision,recall))"
   ]
  },
  {
   "cell_type": "code",
   "execution_count": 2,
   "id": "b4ab7b42",
   "metadata": {},
   "outputs": [],
   "source": [
    "#결측 처리\n",
    "def fillna(df):\n",
    "    df['Age'].fillna(df['Age'].mean(),inplace=True)\n",
    "    df['Cabin'].fillna('N',inplace=True)\n",
    "    df['Embarked'].fillna('N',inplace=True)\n",
    "    return df\n",
    "\n",
    "\n",
    "#불필요한 속성 제거\n",
    "def drop_features(df):\n",
    "    df.drop(['PassengerId','Name','Ticket'],axis=1,inplace=True)\n",
    "    return df\n",
    "\n",
    "\n",
    "#레이블 인코딩\n",
    "def format_features(df):\n",
    "    df['Cabin'] = df['Cabin'].str[:1]\n",
    "    features = ['Cabin','Sex','Embarked']\n",
    "    for feature in features:\n",
    "        le = LabelEncoder()\n",
    "        le = le.fit(df[feature])\n",
    "        df[feature] = le.transform(df[feature])\n",
    "    return df\n",
    "\n",
    "\n",
    "#데이터 전처리 함수\n",
    "def transform_features(df):\n",
    "    df = fillna(df)\n",
    "    df = drop_features(df)\n",
    "    df = format_features(df)\n",
    "    return df"
   ]
  },
  {
   "cell_type": "code",
   "execution_count": 6,
   "id": "1966cd20",
   "metadata": {},
   "outputs": [
    {
     "name": "stdout",
     "output_type": "stream",
     "text": [
      "Confusion matrix : \n",
      " [[92 18]\n",
      " [16 53]]\n",
      "accuracy : 0.8101, precision : 0.7465, recall : 0.7681\n"
     ]
    },
    {
     "name": "stderr",
     "output_type": "stream",
     "text": [
      "C:\\Users\\suhye\\anaconda3\\lib\\site-packages\\sklearn\\linear_model\\_logistic.py:763: ConvergenceWarning: lbfgs failed to converge (status=1):\n",
      "STOP: TOTAL NO. of ITERATIONS REACHED LIMIT.\n",
      "\n",
      "Increase the number of iterations (max_iter) or scale the data as shown in:\n",
      "    https://scikit-learn.org/stable/modules/preprocessing.html\n",
      "Please also refer to the documentation for alternative solver options:\n",
      "    https://scikit-learn.org/stable/modules/linear_model.html#logistic-regression\n",
      "  n_iter_i = _check_optimize_result(\n"
     ]
    }
   ],
   "source": [
    "import pandas as pd\n",
    "from sklearn.model_selection import train_test_split\n",
    "from sklearn.linear_model import LogisticRegression\n",
    "from sklearn.preprocessing import LabelEncoder\n",
    "\n",
    "titanic_df = pd.read_csv(r\"C:\\Users\\suhye\\Desktop\\ADP\\titanic_train.csv\")\n",
    "y = titanic_df['Survived']\n",
    "X = titanic_df.drop('Survived',axis=1)\n",
    "X = transform_features(X)\n",
    "\n",
    "X_train,X_test,y_train,y_test = train_test_split(X,y,test_size=0.2,random_state=0)\n",
    "\n",
    "lr = LogisticRegression()\n",
    "lr.fit(X_train,y_train)\n",
    "pred = lr.predict(X_test)\n",
    "get_clf_eval(y_test,pred)"
   ]
  },
  {
   "cell_type": "markdown",
   "id": "f9ec16af",
   "metadata": {},
   "source": [
    "## 정밀도/재현율 트레이드오프"
   ]
  },
  {
   "cell_type": "code",
   "execution_count": 10,
   "id": "0c6927db",
   "metadata": {},
   "outputs": [
    {
     "name": "stdout",
     "output_type": "stream",
     "text": [
      "pred_proba() shape : (179,)\n",
      "[[0.85141076 0.14858924]\n",
      " [0.89246256 0.10753744]\n",
      " [0.93366403 0.06633597]]\n",
      "더 큰 확률을 클래스 값으로 예측 : \n",
      " [[0.85141076 0.14858924 0.        ]\n",
      " [0.89246256 0.10753744 0.        ]\n",
      " [0.93366403 0.06633597 0.        ]]\n"
     ]
    }
   ],
   "source": [
    "import numpy as np\n",
    "\n",
    "\n",
    "proba = lr.predict_proba(X_test)\n",
    "pred = lr.predict(X_test)\n",
    "print(\"pred_proba() shape : {0}\".format(pred.shape))\n",
    "print(proba[:3])\n",
    "\n",
    "#예측 확률 array와 예측 결과 array를 병합\n",
    "result = np.concatenate([proba,pred.reshape(-1,1)],axis=1)\n",
    "print(\"더 큰 확률을 클래스 값으로 예측 : \\n\",result[:3])"
   ]
  },
  {
   "cell_type": "markdown",
   "id": "3ddcc2c1",
   "metadata": {},
   "source": [
    "threshold 값을 임의로 설정"
   ]
  },
  {
   "cell_type": "code",
   "execution_count": 11,
   "id": "404e1cea",
   "metadata": {},
   "outputs": [
    {
     "name": "stdout",
     "output_type": "stream",
     "text": [
      "[[0. 0. 1.]\n",
      " [1. 0. 0.]\n",
      " [0. 0. 1.]]\n"
     ]
    }
   ],
   "source": [
    "from sklearn.preprocessing import Binarizer\n",
    "\n",
    "X = [[1,-2,2],\n",
    "    [2,0,0],\n",
    "    [0,1.1,1.2]]\n",
    "\n",
    "#X의 개별 원소들이 threshold보다 작거나 같으면 0, 크면 1반환\n",
    "binarizer = Binarizer(threshold=1.1)\n",
    "print(binarizer.fit_transform(X))"
   ]
  },
  {
   "cell_type": "code",
   "execution_count": 13,
   "id": "fad5ba61",
   "metadata": {},
   "outputs": [
    {
     "name": "stdout",
     "output_type": "stream",
     "text": [
      "Confusion matrix : \n",
      " [[92 18]\n",
      " [16 53]]\n",
      "accuracy : 0.8101, precision : 0.7465, recall : 0.7681\n"
     ]
    }
   ],
   "source": [
    "th = 0.5\n",
    "\n",
    "pred_proba = proba[:,1].reshape(-1,1)\n",
    "\n",
    "binarizer = Binarizer(threshold = th).fit(pred_proba)\n",
    "pred2 = binarizer.transform(pred_proba)\n",
    "\n",
    "get_clf_eval(y_test,pred2)"
   ]
  },
  {
   "cell_type": "code",
   "execution_count": 14,
   "id": "55029aea",
   "metadata": {},
   "outputs": [
    {
     "name": "stdout",
     "output_type": "stream",
     "text": [
      "Confusion matrix : \n",
      " [[86 24]\n",
      " [13 56]]\n",
      "accuracy : 0.7933, precision : 0.7000, recall : 0.8116\n"
     ]
    }
   ],
   "source": [
    "#threshold 설정값을 0.4로 변경\n",
    "th = 0.4\n",
    "\n",
    "pred_proba = proba[:,1].reshape(-1,1)\n",
    "\n",
    "binarizer = Binarizer(threshold = th).fit(pred_proba)\n",
    "pred2 = binarizer.transform(pred_proba)\n",
    "\n",
    "get_clf_eval(y_test,pred2)"
   ]
  },
  {
   "cell_type": "code",
   "execution_count": 18,
   "id": "f57ecbdd",
   "metadata": {},
   "outputs": [
    {
     "name": "stdout",
     "output_type": "stream",
     "text": [
      "임계값 :  0.4\n",
      "Confusion matrix : \n",
      " [[86 24]\n",
      " [13 56]]\n",
      "accuracy : 0.7933, precision : 0.7000, recall : 0.8116\n",
      "임계값 :  0.45\n",
      "Confusion matrix : \n",
      " [[91 19]\n",
      " [14 55]]\n",
      "accuracy : 0.8156, precision : 0.7432, recall : 0.7971\n",
      "임계값 :  0.5\n",
      "Confusion matrix : \n",
      " [[92 18]\n",
      " [16 53]]\n",
      "accuracy : 0.8101, precision : 0.7465, recall : 0.7681\n",
      "임계값 :  0.55\n",
      "Confusion matrix : \n",
      " [[97 13]\n",
      " [18 51]]\n",
      "accuracy : 0.8268, precision : 0.7969, recall : 0.7391\n",
      "임계값 :  0.6\n",
      "Confusion matrix : \n",
      " [[99 11]\n",
      " [25 44]]\n",
      "accuracy : 0.7989, precision : 0.8000, recall : 0.6377\n"
     ]
    }
   ],
   "source": [
    "#모든 임계값을 리스트로 생성\n",
    "thresholds = [0.4,0.45,0.5,0.55,0.6]\n",
    "\n",
    "def get_eval_by_threshold(y_test,pred_proba_c1,thresholds):\n",
    "    for custom_threshold in thresholds:\n",
    "        binarizer = Binarizer(threshold=custom_threshold).fit(pred_proba_c1)\n",
    "        custom_predict = binarizer.transform(pred_proba_c1)\n",
    "        print(\"임계값 : \",custom_threshold)\n",
    "        get_clf_eval(y_test,custom_predict)\n",
    "        \n",
    "        \n",
    "get_eval_by_threshold(y_test,proba[:,1].reshape(-1,1),thresholds)"
   ]
  },
  {
   "cell_type": "code",
   "execution_count": 20,
   "id": "74034ec0",
   "metadata": {},
   "outputs": [
    {
     "name": "stdout",
     "output_type": "stream",
     "text": [
      "반환된 분류 결정 임계값 배열의 shape :  (166,)\n",
      "샘플 추출을 위한 임계값 배열의 index 10개 : [  0  15  30  45  60  75  90 105 120 135 150 165]\n",
      "샘플용 10개의 임계값 :  [0.06 0.1  0.11 0.15 0.19 0.28 0.43 0.57 0.65 0.8  0.91 0.97]\n",
      "샘플 임계값 정밀도 :  [0.399 0.418 0.464 0.52  0.594 0.659 0.724 0.803 0.826 1.    1.    1.   ]\n",
      "샘플 임계값 재현율  :  [1.    0.957 0.928 0.928 0.913 0.87  0.797 0.71  0.551 0.449 0.232 0.014]\n"
     ]
    }
   ],
   "source": [
    "from sklearn.metrics import precision_recall_curve\n",
    "\n",
    "#레이블 값이 1일때의 예측 확률 \n",
    "pred_proba_class1 = lr.predict_proba(X_test)[:,1]\n",
    "\n",
    "#실제 데이터셋과 레이블 값이 1일때의 예측 확률을 precision_recall_curve 인자로 입력\n",
    "precisions,recalls,thresholds = precision_recall_curve(y_test,pred_proba_class1)\n",
    "print('반환된 분류 결정 임계값 배열의 shape : ',thresholds.shape)\n",
    "\n",
    "#반환된 임계값 배열 로우가 147건이므로 샘플로 10건만 추출하되, 임계값을 15 step으로 추출\n",
    "thr_index = np.arange(0,thresholds.shape[0],15)\n",
    "print('샘플 추출을 위한 임계값 배열의 index 10개 :',thr_index)\n",
    "print('샘플용 10개의 임계값 : ',np.round(thresholds[thr_index],2))\n",
    "\n",
    "#15step 단위로 추출된 임계값에 따른 정밀도와 재현율\n",
    "print(\"샘플 임계값 정밀도 : \",np.round(precisions[thr_index],3))\n",
    "print(\"샘플 임계값 재현율  : \",np.round(recalls[thr_index],3))"
   ]
  },
  {
   "cell_type": "code",
   "execution_count": 24,
   "id": "1f13a48e",
   "metadata": {},
   "outputs": [
    {
     "data": {
      "image/png": "[encoded data removed]",
      "text/plain": [
       "<Figure size 576x432 with 1 Axes>"
      ]
     },
     "metadata": {
      "needs_background": "light"
     },
     "output_type": "display_data"
    }
   ],
   "source": [
    "import matplotlib.pyplot as plt\n",
    "import matplotlib.ticker as ticker\n",
    "%matplotlib inline\n",
    "\n",
    "def precision_recall_curve_plot(y_test,pred_proba_c1):\n",
    "    precisions,recalls,thresholds = precision_recall_curve(y_test,pred_proba_c1)\n",
    "    \n",
    "    plt.figure(figsize=(8,6))\n",
    "    threshold_boundary = thresholds.shape[0]\n",
    "    plt.plot(thresholds,precisions[0:threshold_boundary],linestyle='--',label='precision')\n",
    "    plt.plot(thresholds,recalls[0:threshold_boundary],label='recall')\n",
    "    \n",
    "    start,end = plt.xlim()\n",
    "    plt.xticks(np.round(np.arange(start,end,0.1),2))\n",
    "    \n",
    "    plt.xlabel('Threshold value')\n",
    "    plt.ylabel('Precision/Recall value')\n",
    "    plt.legend()\n",
    "    plt.grid()\n",
    "    plt.show()\n",
    "    \n",
    "precision_recall_curve_plot(y_test,lr.predict_proba(X_test)[:,1])"
   ]
  },
  {
   "cell_type": "markdown",
   "id": "603b50a1",
   "metadata": {},
   "source": [
    "## fl score"
   ]
  },
  {
   "cell_type": "code",
   "execution_count": 25,
   "id": "228fb8bc",
   "metadata": {},
   "outputs": [
    {
     "name": "stdout",
     "output_type": "stream",
     "text": [
      "F1 score : 0.7571\n"
     ]
    }
   ],
   "source": [
    "from sklearn.metrics import f1_score\n",
    "f1 = f1_score(y_test,pred)\n",
    "print(\"F1 score : {0:.4f}\".format(f1))"
   ]
  },
  {
   "cell_type": "code",
   "execution_count": 26,
   "id": "28f5f1e1",
   "metadata": {},
   "outputs": [
    {
     "name": "stdout",
     "output_type": "stream",
     "text": [
      "임계값 :  0.4\n",
      "confusion matrix : \n",
      " [[86 24]\n",
      " [13 56]]\n",
      "accuracy : 0.7933, precision : 0.7000, recall : 0.8116, F1 : 0.7517\n",
      "임계값 :  0.45\n",
      "confusion matrix : \n",
      " [[91 19]\n",
      " [14 55]]\n",
      "accuracy : 0.8156, precision : 0.7432, recall : 0.7971, F1 : 0.7692\n",
      "임계값 :  0.5\n",
      "confusion matrix : \n",
      " [[92 18]\n",
      " [16 53]]\n",
      "accuracy : 0.8101, precision : 0.7465, recall : 0.7681, F1 : 0.7571\n",
      "임계값 :  0.55\n",
      "confusion matrix : \n",
      " [[97 13]\n",
      " [18 51]]\n",
      "accuracy : 0.8268, precision : 0.7969, recall : 0.7391, F1 : 0.7669\n",
      "임계값 :  0.6\n",
      "confusion matrix : \n",
      " [[99 11]\n",
      " [25 44]]\n",
      "accuracy : 0.7989, precision : 0.8000, recall : 0.6377, F1 : 0.7097\n"
     ]
    }
   ],
   "source": [
    "def get_clf_eval(y_test,pred):\n",
    "    confusion = confusion_matrix(y_test,pred)\n",
    "    accuracy = accuracy_score(y_test,pred)\n",
    "    precision = precision_score(y_test,pred)\n",
    "    recall = recall_score(y_test,pred)\n",
    "    f1 = f1_score(y_test,pred)\n",
    "    print(\"confusion matrix : \\n\",confusion)\n",
    "    print(\"accuracy : {0:.4f}, precision : {1:.4f}, recall : {2:.4f}, F1 : {3:.4f}\".format(accuracy,precision,recall,f1))\n",
    "    \n",
    "thresholds = [0.4,0.45,0.5,0.55,0.6]\n",
    "pred_proba = lr.predict_proba(X_test)\n",
    "get_eval_by_threshold(y_test,proba[:,1].reshape(-1,1),thresholds)"
   ]
  },
  {
   "cell_type": "code",
   "execution_count": null,
   "id": "c8d3101b",
   "metadata": {},
   "outputs": [],
   "source": []
  }
 ],
 "metadata": {
  "kernelspec": {
   "display_name": "Python 3",
   "language": "python",
   "name": "python3"
  },
  "language_info": {
   "codemirror_mode": {
    "name": "ipython",
    "version": 3
   },
   "file_extension": ".py",
   "mimetype": "text/x-python",
   "name": "python",
   "nbconvert_exporter": "python",
   "pygments_lexer": "ipython3",
   "version": "3.8.8"
  }
 },
 "nbformat": 4,
 "nbformat_minor": 5
}
