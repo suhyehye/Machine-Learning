{
 "cells": [
  {
   "cell_type": "code",
   "execution_count": 1,
   "id": "49395fee",
   "metadata": {},
   "outputs": [
    {
     "name": "stdout",
     "output_type": "stream",
     "text": [
      "[[-0.212 -0.285 -0.574 -0.44 ]\n",
      " [-0.33   1.184  1.615  0.367]\n",
      " [-0.014  0.63   1.71  -1.327]\n",
      " [ 0.402 -0.191  1.404 -1.969]]\n"
     ]
    }
   ],
   "source": [
    "import numpy as np\n",
    "from numpy.linalg import svd\n",
    "\n",
    "np.random.seed(121)\n",
    "a = np.random.randn(4,4)\n",
    "print(np.round(a,3))"
   ]
  },
  {
   "cell_type": "markdown",
   "id": "4df78e48",
   "metadata": {},
   "source": [
    "U,Sigma,Vt 도출"
   ]
  },
  {
   "cell_type": "code",
   "execution_count": 3,
   "id": "859f3d86",
   "metadata": {},
   "outputs": [
    {
     "name": "stdout",
     "output_type": "stream",
     "text": [
      "(4, 4) (4,) (4, 4)\n",
      "U : \n",
      " [[-0.079 -0.318  0.867  0.376]\n",
      " [ 0.383  0.787  0.12   0.469]\n",
      " [ 0.656  0.022  0.357 -0.664]\n",
      " [ 0.645 -0.529 -0.328  0.444]]\n",
      "Sigma Value \n",
      " [3.423 2.023 0.463 0.079]\n",
      "V transpose matrix :\n",
      " [[ 0.041  0.224  0.786 -0.574]\n",
      " [-0.2    0.562  0.37   0.712]\n",
      " [-0.778  0.395 -0.333 -0.357]\n",
      " [-0.593 -0.692  0.366  0.189]]\n"
     ]
    }
   ],
   "source": [
    "U,Sigma,Vt = svd(a)\n",
    "print(U.shape,Sigma.shape,Vt.shape)\n",
    "print(\"U : \\n\",np.round(U,3))\n",
    "print(\"Sigma Value \\n\",np.round(Sigma,3))\n",
    "print(\"V transpose matrix :\\n\",np.round(Vt,3))"
   ]
  },
  {
   "cell_type": "markdown",
   "id": "5b1eb1fa",
   "metadata": {},
   "source": [
    "Sigma를 다시 0을 포함한 대칭행렬로 반환"
   ]
  },
  {
   "cell_type": "code",
   "execution_count": 5,
   "id": "a80007ef",
   "metadata": {},
   "outputs": [
    {
     "name": "stdout",
     "output_type": "stream",
     "text": [
      "[[-0.212 -0.285 -0.574 -0.44 ]\n",
      " [-0.33   1.184  1.615  0.367]\n",
      " [-0.014  0.63   1.71  -1.327]\n",
      " [ 0.402 -0.191  1.404 -1.969]]\n"
     ]
    }
   ],
   "source": [
    "sigma_mat = np.diag(Sigma)\n",
    "a_ = np.dot(np.dot(U,sigma_mat),Vt)\n",
    "print(np.round(a_,3))"
   ]
  },
  {
   "cell_type": "markdown",
   "id": "7380f1de",
   "metadata": {},
   "source": [
    "데이터 로우 간 의존성이 있을 경우"
   ]
  },
  {
   "cell_type": "code",
   "execution_count": 6,
   "id": "d46b5c19",
   "metadata": {},
   "outputs": [
    {
     "name": "stdout",
     "output_type": "stream",
     "text": [
      "[[-0.212 -0.285 -0.574 -0.44 ]\n",
      " [-0.33   1.184  1.615  0.367]\n",
      " [-0.542  0.899  1.041 -0.073]\n",
      " [-0.212 -0.285 -0.574 -0.44 ]]\n"
     ]
    }
   ],
   "source": [
    "a[2] = a[0]+a[1]\n",
    "a[3] = a[0]\n",
    "print(np.round(a,3))"
   ]
  },
  {
   "cell_type": "markdown",
   "id": "e05c6fb0",
   "metadata": {},
   "source": [
    "다시 SVD 수행해 Sigma 값 확인"
   ]
  },
  {
   "cell_type": "code",
   "execution_count": 7,
   "id": "13e23c5a",
   "metadata": {},
   "outputs": [
    {
     "name": "stdout",
     "output_type": "stream",
     "text": [
      "(4, 4) (4,) (4, 4)\n",
      "Sigma Value : \n",
      " [2.663 0.807 0.    0.   ]\n"
     ]
    }
   ],
   "source": [
    "U,Sigma,Vt = svd(a)\n",
    "print(U.shape,Sigma.shape,Vt.shape)\n",
    "print(\"Sigma Value : \\n\",np.round(Sigma,3))"
   ]
  },
  {
   "cell_type": "code",
   "execution_count": 8,
   "id": "75d52207",
   "metadata": {},
   "outputs": [
    {
     "name": "stdout",
     "output_type": "stream",
     "text": [
      "(4, 2) (2, 2) (2, 4)\n",
      "[[-0.212 -0.285 -0.574 -0.44 ]\n",
      " [-0.33   1.184  1.615  0.367]\n",
      " [-0.542  0.899  1.041 -0.073]\n",
      " [-0.212 -0.285 -0.574 -0.44 ]]\n"
     ]
    }
   ],
   "source": [
    "#U 행렬은 Sigma와 내적을 수행하므로 Sigma의 앞 2행에 대응되는 열만 추출\n",
    "U_=U[:,:2]\n",
    "Sigma_ = np.diag(Sigma[:2])\n",
    "\n",
    "#V전치 행렬은 앞2행만 추출\n",
    "Vt_ = Vt[:2]\n",
    "print(U_.shape,Sigma_.shape,Vt_.shape)\n",
    "\n",
    "#U,Sigma,Vt의 내적을 수행하며 다시 원본 행렬 복원\n",
    "a_ = np.dot(np.dot(U_,Sigma_),Vt_)\n",
    "print(np.round(a_,3))"
   ]
  }
 ],
 "metadata": {
  "kernelspec": {
   "display_name": "Python 3",
   "language": "python",
   "name": "python3"
  },
  "language_info": {
   "codemirror_mode": {
    "name": "ipython",
    "version": 3
   },
   "file_extension": ".py",
   "mimetype": "text/x-python",
   "name": "python",
   "nbconvert_exporter": "python",
   "pygments_lexer": "ipython3",
   "version": "3.8.8"
  }
 },
 "nbformat": 4,
 "nbformat_minor": 5
}
