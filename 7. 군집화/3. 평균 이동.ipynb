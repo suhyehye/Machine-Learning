{
 "cells": [
  {
   "cell_type": "code",
   "execution_count": 1,
   "id": "27003672",
   "metadata": {},
   "outputs": [
    {
     "name": "stdout",
     "output_type": "stream",
     "text": [
      "cluster 유형 :  [0 1 2 3 4 5]\n"
     ]
    }
   ],
   "source": [
    "import numpy as np\n",
    "from sklearn.datasets import make_blobs\n",
    "from sklearn.cluster import MeanShift\n",
    "\n",
    "X,y = make_blobs(n_samples=200,n_features=2,centers=3,cluster_std=0.7,random_state=0)\n",
    "meanshift = MeanShift(bandwidth = 0.8)\n",
    "cluster_labels = meanshift.fit_predict(X)\n",
    "print(\"cluster 유형 : \",np.unique(cluster_labels))"
   ]
  },
  {
   "cell_type": "code",
   "execution_count": 2,
   "id": "4a9d2b9e",
   "metadata": {},
   "outputs": [
    {
     "name": "stdout",
     "output_type": "stream",
     "text": [
      "cluster 유형 :  [0 1 2]\n"
     ]
    }
   ],
   "source": [
    "meanshift = MeanShift(bandwidth = 1)\n",
    "cluster_labels = meanshift.fit_predict(X)\n",
    "print(\"cluster 유형 : \",np.unique(cluster_labels))"
   ]
  },
  {
   "cell_type": "code",
   "execution_count": 3,
   "id": "0617f7f9",
   "metadata": {},
   "outputs": [
    {
     "name": "stdout",
     "output_type": "stream",
     "text": [
      "bandwidth 값 :  1.816\n"
     ]
    }
   ],
   "source": [
    "from sklearn.cluster import estimate_bandwidth\n",
    "\n",
    "bandwidth = estimate_bandwidth(X)\n",
    "print('bandwidth 값 : ',round(bandwidth,3))"
   ]
  },
  {
   "cell_type": "code",
   "execution_count": 5,
   "id": "48746dd9",
   "metadata": {},
   "outputs": [
    {
     "name": "stdout",
     "output_type": "stream",
     "text": [
      "cluster labels 유형 :  [0 1 2]\n"
     ]
    }
   ],
   "source": [
    "import pandas as pd\n",
    "\n",
    "clusterDF = pd.DataFrame(data=X,columns = ['ftr1','ftr2'])\n",
    "clusterDF['target'] = y\n",
    "\n",
    "#estimate_bandwidth()로 최적의 bandwidth 계산\n",
    "best_bandwidth = estimate_bandwidth(X)\n",
    "\n",
    "meanshift = MeanShift(bandwidth = best_bandwidth)\n",
    "cluster_labels = meanshift.fit_predict(X)\n",
    "print(\"cluster labels 유형 : \",np.unique(cluster_labels))"
   ]
  },
  {
   "cell_type": "code",
   "execution_count": 8,
   "id": "e9ddc31f",
   "metadata": {},
   "outputs": [
    {
     "data": {
      "image/png": "[encoded data removed]",
      "text/plain": [
       "<Figure size 432x288 with 1 Axes>"
      ]
     },
     "metadata": {
      "needs_background": "light"
     },
     "output_type": "display_data"
    }
   ],
   "source": [
    "import matplotlib.pyplot as plt\n",
    "%matplotlib inline\n",
    "\n",
    "clusterDF['meanshift_label'] = cluster_labels\n",
    "centers = meanshift.cluster_centers_\n",
    "unique_lables = np.unique(cluster_labels)\n",
    "markers = ['o','s','^','x','*']\n",
    "\n",
    "for label in unique_lables:\n",
    "    label_cluster = clusterDF[clusterDF['meanshift_label'] == label]\n",
    "    center_x_y = centers[label]\n",
    "    \n",
    "    #군집별로 다른 마커로 산점도 적용\n",
    "    plt.scatter(x=label_cluster['ftr1'],y=label_cluster['ftr2'],edgecolor='k',marker=markers[label])\n",
    "    \n",
    "    #군집별 중심표현\n",
    "    plt.scatter(x=center_x_y[0],y = center_x_y[1], s = 200, color = 'gray',alpha=0.9,marker=markers[label])\n",
    "    plt.scatter(x=center_x_y[0],y=center_x_y[1],s=70,color='k',marker='$%d$' % label)\n",
    "    \n",
    "plt.show()"
   ]
  },
  {
   "cell_type": "code",
   "execution_count": 9,
   "id": "5d30fea8",
   "metadata": {},
   "outputs": [
    {
     "name": "stdout",
     "output_type": "stream",
     "text": [
      "target  meanshift_label\n",
      "0       0                  67\n",
      "1       1                  67\n",
      "2       2                  66\n",
      "Name: meanshift_label, dtype: int64\n"
     ]
    }
   ],
   "source": [
    "print(clusterDF.groupby('target')['meanshift_label'].value_counts())"
   ]
  },
  {
   "cell_type": "code",
   "execution_count": null,
   "id": "410218e8",
   "metadata": {},
   "outputs": [],
   "source": []
  }
 ],
 "metadata": {
  "kernelspec": {
   "display_name": "Python 3",
   "language": "python",
   "name": "python3"
  },
  "language_info": {
   "codemirror_mode": {
    "name": "ipython",
    "version": 3
   },
   "file_extension": ".py",
   "mimetype": "text/x-python",
   "name": "python",
   "nbconvert_exporter": "python",
   "pygments_lexer": "ipython3",
   "version": "3.8.8"
  }
 },
 "nbformat": 4,
 "nbformat_minor": 5
}
