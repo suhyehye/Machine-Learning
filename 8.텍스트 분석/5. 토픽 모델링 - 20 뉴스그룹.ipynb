{
 "cells": [
  {
   "cell_type": "code",
   "execution_count": 8,
   "id": "c005c2c6",
   "metadata": {},
   "outputs": [
    {
     "name": "stdout",
     "output_type": "stream",
     "text": [
      "CountVectorizer Shape :  (7855, 1000)\n"
     ]
    }
   ],
   "source": [
    "from sklearn.datasets import fetch_20newsgroups\n",
    "from sklearn.feature_extraction.text import CountVectorizer\n",
    "from sklearn.decomposition import LatentDirichletAllocation\n",
    "\n",
    "#맥, 윈도우즈, 야구, 하키, 중동, 기독교, 전자공학, 의학 8개 주제 추출\n",
    "cats = ['comp.sys.mac.hardware','comp.windows.x','rec.sport.baseball','rec.sport.hockey','talk.politics.mideast','soc.religion.christian','sci.electronics','sci.med']\n",
    "\n",
    "#cats 변수로 기재된 카테고리만 추출\n",
    "news_df = fetch_20newsgroups(subset='all',remove=('headers','footers','quotos'),categories = cats,random_state=0)\n",
    "\n",
    "#Count기반의 벡터화만 적용\n",
    "count_vect = CountVectorizer(max_df=0.95,max_features=1000,min_df=2,stop_words='english',ngram_range=(1,2))\n",
    "feat_vect = count_vect.fit_transform(news_df.data)\n",
    "print('CountVectorizer Shape : ',feat_vect.shape)"
   ]
  },
  {
   "cell_type": "code",
   "execution_count": 9,
   "id": "c3811e8d",
   "metadata": {},
   "outputs": [
    {
     "data": {
      "text/plain": [
       "LatentDirichletAllocation(n_components=8, random_state=0)"
      ]
     },
     "execution_count": 9,
     "metadata": {},
     "output_type": "execute_result"
    }
   ],
   "source": [
    "lda = LatentDirichletAllocation(n_components=8,random_state=0)\n",
    "lda.fit(feat_vect)"
   ]
  },
  {
   "cell_type": "code",
   "execution_count": 10,
   "id": "2c33c507",
   "metadata": {},
   "outputs": [
    {
     "name": "stdout",
     "output_type": "stream",
     "text": [
      "(8, 1000)\n"
     ]
    },
    {
     "data": {
      "text/plain": [
       "array([[2.32217733e-01, 4.11438557e+02, 1.25035456e-01, ...,\n",
       "        8.81201292e+01, 9.68459933e+01, 9.40383506e+01],\n",
       "       [1.30826913e+01, 5.87463680e+01, 6.37588808e-01, ...,\n",
       "        1.16637516e+02, 4.77781900e+00, 3.86140225e+01],\n",
       "       [1.25252491e-01, 3.38089657e+01, 1.25075672e-01, ...,\n",
       "        1.73230457e+02, 3.59909294e-01, 1.17096028e+02],\n",
       "       ...,\n",
       "       [3.03998314e+00, 1.25245079e-01, 1.29382411e-01, ...,\n",
       "        4.33503407e+01, 1.25140780e-01, 1.13061729e+01],\n",
       "       [4.72579443e+02, 1.27778622e+02, 1.84858156e+02, ...,\n",
       "        1.25064941e-01, 1.68217368e+02, 5.30354897e+01],\n",
       "       [1.16127319e+02, 4.40309406e+00, 2.86989052e+01, ...,\n",
       "        3.69411693e+01, 1.27954709e-01, 1.11094297e+01]])"
      ]
     },
     "execution_count": 10,
     "metadata": {},
     "output_type": "execute_result"
    }
   ],
   "source": [
    "print(lda.components_.shape)\n",
    "lda.components_"
   ]
  },
  {
   "cell_type": "code",
   "execution_count": 11,
   "id": "9c6e2cc0",
   "metadata": {},
   "outputs": [
    {
     "name": "stdout",
     "output_type": "stream",
     "text": [
      "Topic # 0\n",
      "people israel armenian jews said armenians turkish israeli jewish arab war government did killed turkey\n",
      "Topic # 1\n",
      "use know like does just don good used problem time ve work power need medical\n",
      "Topic # 2\n",
      "game team year don think like just good games time players play writes better season\n",
      "Topic # 3\n",
      "god people jesus believe church think christ does say christian know don christians just bible\n",
      "Topic # 4\n",
      "edu writes article don ca know cs just writes article think like edu writes com ve does\n",
      "Topic # 5\n",
      "edu com writes article mit ac mit edu uk uiuc subject uiuc edu hp mail sun available\n",
      "Topic # 6\n",
      "10 25 12 11 15 16 14 20 13 17 18 30 19 00 55\n",
      "Topic # 7\n",
      "window use file program server mac windows software using dos display motif set version application\n"
     ]
    }
   ],
   "source": [
    "def display_topics(model,feature_names,no_top_words):\n",
    "    for topic_index,topic in enumerate(model.components_):\n",
    "        print('Topic #',topic_index)\n",
    "        \n",
    "        #components_array에서 가장 값이 큰 순으로 정렬했을 때, 그 값의 array 인덱스 반환\n",
    "        topic_word_indexes = topic.argsort()[::-1]\n",
    "        top_indexes = topic_word_indexes[:no_top_words]\n",
    "        \n",
    "        #top_indexes 대상인 인덱스 별로 feature_names에 해당하는 word feature 추출 후 join으로 concat\n",
    "        feature_concat = ' '.join([feature_names[i] for i in top_indexes])\n",
    "        print(feature_concat)\n",
    "        \n",
    "\n",
    "#CountVectorizer 객체 내의 전체 word의 명칭을 get_features_names()를 통해 추출\n",
    "feature_names = count_vect.get_feature_names()\n",
    "\n",
    "#토픽별로 가장 연관도 높은 word 15개씩 추출\n",
    "display_topics(lda,feature_names,15)"
   ]
  },
  {
   "cell_type": "code",
   "execution_count": null,
   "id": "ef959460",
   "metadata": {},
   "outputs": [],
   "source": []
  }
 ],
 "metadata": {
  "kernelspec": {
   "display_name": "Python 3",
   "language": "python",
   "name": "python3"
  },
  "language_info": {
   "codemirror_mode": {
    "name": "ipython",
    "version": 3
   },
   "file_extension": ".py",
   "mimetype": "text/x-python",
   "name": "python",
   "nbconvert_exporter": "python",
   "pygments_lexer": "ipython3",
   "version": "3.8.8"
  }
 },
 "nbformat": 4,
 "nbformat_minor": 5
}
