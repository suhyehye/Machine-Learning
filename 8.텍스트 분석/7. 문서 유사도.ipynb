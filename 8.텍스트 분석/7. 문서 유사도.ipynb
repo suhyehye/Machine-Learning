{
 "cells": [
  {
   "cell_type": "markdown",
   "id": "ae6dca7d",
   "metadata": {},
   "source": [
    "## 두 넘파이 배열에 대해 코사인 유사도를 구하는 함수 생성"
   ]
  },
  {
   "cell_type": "code",
   "execution_count": 9,
   "id": "8f7634e3",
   "metadata": {},
   "outputs": [],
   "source": [
    "import numpy as np\n",
    "\n",
    "def cos_similarity(v1,v2):\n",
    "    dot_product = np.dot(v1,v2)\n",
    "    l2_norm = (np.sqrt(sum(np.square(v1))) * np.sqrt(sum(np.square(v2))))\n",
    "    similarity = dot_product / l2_norm\n",
    "    \n",
    "    return similarity"
   ]
  },
  {
   "cell_type": "markdown",
   "id": "ff4ef521",
   "metadata": {},
   "source": [
    "## 3개의 간단한 문서의 유사도 비교"
   ]
  },
  {
   "cell_type": "markdown",
   "id": "ba9490ca",
   "metadata": {},
   "source": [
    "3개의 간단한 문서를 TF-IDF로 벡터화된 행렬로 변환"
   ]
  },
  {
   "cell_type": "code",
   "execution_count": 10,
   "id": "2584e85a",
   "metadata": {},
   "outputs": [
    {
     "name": "stdout",
     "output_type": "stream",
     "text": [
      "(3, 18)\n"
     ]
    }
   ],
   "source": [
    "from sklearn.feature_extraction.text import TfidfVectorizer\n",
    "\n",
    "doc_list = ['if you take the blue pill, the story ends',\n",
    "           'if you take the red pill, you stay in Wonderland',\n",
    "           'if you take the red pill, I show you how deep the rabbit hole goes']\n",
    "\n",
    "tfidf_vect_simple = TfidfVectorizer()\n",
    "feature_vect_simple = tfidf_vect_simple.fit_transform(doc_list)\n",
    "print(feature_vect_simple.shape)"
   ]
  },
  {
   "cell_type": "markdown",
   "id": "937c218e",
   "metadata": {},
   "source": [
    "## 문장 1,2의 유사도 비교"
   ]
  },
  {
   "cell_type": "code",
   "execution_count": 11,
   "id": "df75fe9c",
   "metadata": {},
   "outputs": [
    {
     "name": "stdout",
     "output_type": "stream",
     "text": [
      "문장 1,2의 Cosine 유사도 : 0.402\n"
     ]
    }
   ],
   "source": [
    "#TFidfVectorizer로 transform()한 결과는 희소 행렬이므로 밀집 행렬로 변환\n",
    "feature_vect_dense = feature_vect_simple.todense()\n",
    "\n",
    "#첫 번째 문장과 두 번째 문장의 피처 벡터 추출\n",
    "vect1 = np.array(feature_vect_dense[0]).reshape(-1, )\n",
    "vect2 = np.array(feature_vect_dense[1]).reshape(-1, )\n",
    "\n",
    "#첫 번째 문장과 두 번째 문장의 피처 벡터로 두 개 문장의 코사인 유사도 추출\n",
    "similarity_simple = cos_similarity(vect1,vect2)\n",
    "print('문장 1,2의 Cosine 유사도 : {0:.3f}'.format(similarity_simple))"
   ]
  },
  {
   "cell_type": "markdown",
   "id": "d0eb44aa",
   "metadata": {},
   "source": [
    "## 문장 1,3의 유사도 비교"
   ]
  },
  {
   "cell_type": "code",
   "execution_count": 12,
   "id": "6c6041cb",
   "metadata": {},
   "outputs": [
    {
     "name": "stdout",
     "output_type": "stream",
     "text": [
      "문장 1,3의 Cosine 유사도 : 0.404\n"
     ]
    }
   ],
   "source": [
    "vect3 = np.array(feature_vect_dense[2]).reshape(-1, )\n",
    "similarity_simple = cos_similarity(vect1,vect3)\n",
    "print('문장 1,3의 Cosine 유사도 : {0:.3f}'.format(similarity_simple))"
   ]
  },
  {
   "cell_type": "markdown",
   "id": "5bb7476b",
   "metadata": {},
   "source": [
    "## 문장 2,3의 유사도 비교"
   ]
  },
  {
   "cell_type": "code",
   "execution_count": 13,
   "id": "3415cee1",
   "metadata": {},
   "outputs": [
    {
     "name": "stdout",
     "output_type": "stream",
     "text": [
      "문장 2,3의 Cosine 유사도 : 0.456\n"
     ]
    }
   ],
   "source": [
    "similarity_simple = cos_similarity(vect2,vect3)\n",
    "print('문장 2,3의 Cosine 유사도 : {0:.3f}'.format(similarity_simple))"
   ]
  },
  {
   "cell_type": "markdown",
   "id": "ca569974",
   "metadata": {},
   "source": [
    "## sklearn의 API를 이용하여 문서 유사도 비교"
   ]
  },
  {
   "cell_type": "code",
   "execution_count": 14,
   "id": "433cec3f",
   "metadata": {},
   "outputs": [
    {
     "name": "stdout",
     "output_type": "stream",
     "text": [
      "[[1.         0.40207758 0.40425045]]\n"
     ]
    }
   ],
   "source": [
    "from sklearn.metrics.pairwise import cosine_similarity\n",
    "\n",
    "similarity_simple_pair = cosine_similarity(feature_vect_simple[0],feature_vect_simple)\n",
    "print(similarity_simple_pair)"
   ]
  },
  {
   "cell_type": "code",
   "execution_count": 16,
   "id": "9f9a9c21",
   "metadata": {},
   "outputs": [
    {
     "name": "stdout",
     "output_type": "stream",
     "text": [
      "[[0.40207758 0.40425045]]\n"
     ]
    }
   ],
   "source": [
    "# 1은 자기자신과의 유사도\n",
    "#1을 없애는 코드 \n",
    "\n",
    "similarity_simple_pair = cosine_similarity(feature_vect_simple[0],feature_vect_simple[1:])\n",
    "print(similarity_simple_pair)"
   ]
  },
  {
   "cell_type": "code",
   "execution_count": 17,
   "id": "8d5aad89",
   "metadata": {},
   "outputs": [
    {
     "name": "stdout",
     "output_type": "stream",
     "text": [
      "[[1.         0.40207758 0.40425045]\n",
      " [0.40207758 1.         0.45647296]\n",
      " [0.40425045 0.45647296 1.        ]]\n",
      "similarity_simple_pair shape :  (3, 3)\n"
     ]
    }
   ],
   "source": [
    "similarity_simple_pair = cosine_similarity(feature_vect_simple, feature_vect_simple)\n",
    "print(similarity_simple_pair)\n",
    "print('similarity_simple_pair shape : ',similarity_simple_pair.shape)"
   ]
  },
  {
   "cell_type": "markdown",
   "id": "7cc2096b",
   "metadata": {},
   "source": [
    "## Opinion Review 데이터 셋을 이용한 문서 유사도 측정"
   ]
  },
  {
   "cell_type": "code",
   "execution_count": 30,
   "id": "8aa915de",
   "metadata": {},
   "outputs": [],
   "source": [
    "from nltk.stem import WordNetLemmatizer\n",
    "import nltk\n",
    "import string\n",
    "\n",
    "remove_punct_dict = dict((ord(punct), None) for punct in string.punctuation)\n",
    "lemmar = WordNetLemmatizer()\n",
    "\n",
    "def LemTokens(tokens):\n",
    "    return [lemmar.lemmatize(token) for token in tokens]\n",
    "\n",
    "def LemNormalize(text):\n",
    "    return LemTokens(nltk.word_tokenize(text.lower().translate(remove_punct_dict)))"
   ]
  },
  {
   "cell_type": "code",
   "execution_count": 34,
   "id": "1cc03017",
   "metadata": {},
   "outputs": [
    {
     "name": "stderr",
     "output_type": "stream",
     "text": [
      "C:\\Users\\suhye\\anaconda3\\lib\\site-packages\\sklearn\\feature_extraction\\text.py:388: UserWarning: Your stop_words may be inconsistent with your preprocessing. Tokenizing the stop words generated tokens ['ha', 'le', 'u', 'wa'] not in stop_words.\n",
      "  warnings.warn('Your stop_words may be inconsistent with '\n"
     ]
    }
   ],
   "source": [
    "import pandas as pd\n",
    "import glob ,os\n",
    "from sklearn.feature_extraction.text import TfidfVectorizer\n",
    "from sklearn.cluster import KMeans\n",
    "\n",
    "path = r'C:\\Users\\suhye\\Desktop\\Kaggle\\OpinosisDataset1.0\\OpinosisDataset1.0\\topics'\n",
    "all_files = glob.glob(os.path.join(path, \"*.data\"))     \n",
    "filename_list = []\n",
    "opinion_text = []\n",
    "\n",
    "for file_ in all_files:\n",
    "    df = pd.read_table(file_,index_col=None, header=0,encoding='latin1')\n",
    "    filename_ = file_.split('\\\\')[-1]\n",
    "    filename = filename_.split('.')[0]\n",
    "    filename_list.append(filename)\n",
    "    opinion_text.append(df.to_string())\n",
    "\n",
    "document_df = pd.DataFrame({'filename':filename_list, 'opinion_text':opinion_text})\n",
    "\n",
    "tfidf_vect = TfidfVectorizer(tokenizer=LemNormalize, stop_words='english' , \\\n",
    "                             ngram_range=(1,2), min_df=0.05, max_df=0.85 )\n",
    "feature_vect = tfidf_vect.fit_transform(document_df['opinion_text'])\n",
    "\n",
    "km_cluster = KMeans(n_clusters=3, max_iter=10000, random_state=0)\n",
    "km_cluster.fit(feature_vect)\n",
    "cluster_label = km_cluster.labels_\n",
    "cluster_centers = km_cluster.cluster_centers_\n",
    "document_df['cluster_label'] = cluster_label"
   ]
  },
  {
   "cell_type": "markdown",
   "id": "1fd47bd0",
   "metadata": {},
   "source": [
    "## 호텔을 주제로 군집화된 문서와 다른 문서와의 유사도 측정"
   ]
  },
  {
   "cell_type": "markdown",
   "id": "0621a968",
   "metadata": {},
   "source": [
    "호텔을 주제로 군집화된 문서의 인덱스 추출 -> TfidfVectorizer 객체 변수인 feature_vect에서 호텔로 군집화된 문서의 피처벡터 추출"
   ]
  },
  {
   "cell_type": "code",
   "execution_count": 36,
   "id": "555d1c26",
   "metadata": {},
   "outputs": [
    {
     "name": "stdout",
     "output_type": "stream",
     "text": [
      "호텔로 군집화된 문서의 DataFrame Index :  Int64Index([6, 7, 16, 17, 18, 22, 25, 29, 37, 47], dtype='int64')\n",
      "비교 문서명 comfort_honda_accord_2008 와 타 문서 유사도\n",
      "[[1.         0.83969704 0.15655631 0.33044002 0.25981841 0.16544257\n",
      "  0.27569738 0.18050974 0.65502034 0.06229873]]\n"
     ]
    }
   ],
   "source": [
    "from sklearn.metrics.pairwise import cosine_similarity\n",
    "\n",
    "#호텔로 군집화된 문서의 인덱스 추출\n",
    "hotel_indexes = document_df[document_df['cluster_label']==1].index\n",
    "print(\"호텔로 군집화된 문서의 DataFrame Index : \",hotel_indexes)\n",
    "\n",
    "#그중 첫 번째 문서 추출해 파일명 표시\n",
    "comparison_docname = document_df.iloc[hotel_indexes[0]]['filename']\n",
    "print('비교 문서명',comparison_docname, '와 타 문서 유사도')\n",
    "\n",
    "#document_df에서 추출한 Index 객체를 feature_vect로 입력하여 호텔 군집화된 feature_vect 추출\n",
    "similarity_pair = cosine_similarity(feature_vect[hotel_indexes[0]], feature_vect[hotel_indexes])\n",
    "print(similarity_pair)"
   ]
  },
  {
   "cell_type": "markdown",
   "id": "bef3dac0",
   "metadata": {},
   "source": [
    "첫 번째 문서와 다른 문서간의 유사도가 높은 순 정렬 후 시각화"
   ]
  },
  {
   "cell_type": "code",
   "execution_count": 39,
   "id": "fa9be2de",
   "metadata": {},
   "outputs": [
    {
     "data": {
      "text/plain": [
       "Text(0.5, 1.0, 'comfort_honda_accord_2008')"
      ]
     },
     "execution_count": 39,
     "metadata": {},
     "output_type": "execute_result"
    },
    {
     "data": {
      "image/png": "[encoded data removed]",
      "text/plain": [
       "<Figure size 432x288 with 1 Axes>"
      ]
     },
     "metadata": {
      "needs_background": "light"
     },
     "output_type": "display_data"
    }
   ],
   "source": [
    "import seaborn as sns\n",
    "import numpy as np\n",
    "import matplotlib.pyplot as plt\n",
    "%matplotlib inline\n",
    "\n",
    "#첫 번째 문서와 타 문서 간 유사도가 큰 순으로 정렬한 인덱스를 추출하되 자기 자신 제외\n",
    "sorted_index = similarity_pair.argsort()[:,::-1]\n",
    "sorted_index = sorted_index[:,1:]\n",
    "\n",
    "#유사도가 큰 순으로 hotel_indexes 추출해 재정렬\n",
    "hotel_sorted_indexes = hotel_indexes[sorted_index.reshape(-1)]\n",
    "\n",
    "#유사도가 큰 순으로 유사도 값 재정렬 하되 자기 자신 제외\n",
    "hotel_1_sim_value = np.sort(similarity_pair.reshape(-1))[::-1]\n",
    "hotel_1_sim_value = hotel_1_sim_value[1:]\n",
    "\n",
    "#유사도가 큰 순으로 정렬된 인덱스와 유사도 값을 이용해 파일명과 유사도 값을 막대 그래프로 시각화\n",
    "hotel_1_sim_df = pd.DataFrame()\n",
    "hotel_1_sim_df['filename'] = document_df.iloc[hotel_sorted_indexes]['filename']\n",
    "hotel_1_sim_df['similarity'] = hotel_1_sim_value\n",
    "\n",
    "sns.barplot(x='similarity',y='filename',data = hotel_1_sim_df)\n",
    "plt.title(comparison_docname)"
   ]
  },
  {
   "cell_type": "code",
   "execution_count": null,
   "id": "d07d74ec",
   "metadata": {},
   "outputs": [],
   "source": []
  }
 ],
 "metadata": {
  "kernelspec": {
   "display_name": "Python 3",
   "language": "python",
   "name": "python3"
  },
  "language_info": {
   "codemirror_mode": {
    "name": "ipython",
    "version": 3
   },
   "file_extension": ".py",
   "mimetype": "text/x-python",
   "name": "python",
   "nbconvert_exporter": "python",
   "pygments_lexer": "ipython3",
   "version": "3.8.8"
  }
 },
 "nbformat": 4,
 "nbformat_minor": 5
}
